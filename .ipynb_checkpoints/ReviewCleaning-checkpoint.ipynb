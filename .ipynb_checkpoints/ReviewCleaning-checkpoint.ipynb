{
 "cells": [
  {
   "cell_type": "code",
   "execution_count": 1,
   "id": "7253d8a6",
   "metadata": {},
   "outputs": [
    {
     "name": "stderr",
     "output_type": "stream",
     "text": [
      "[nltk_data] Downloading package stopwords to\n",
      "[nltk_data]     C:\\Users\\DELL\\AppData\\Roaming\\nltk_data...\n",
      "[nltk_data]   Package stopwords is already up-to-date!\n"
     ]
    }
   ],
   "source": [
    "import numpy as np\n",
    "import pandas as pd\n",
    "import nltk\n",
    "nltk.download('stopwords')\n",
    "from nltk.corpus import stopwords\n",
    "from nltk.stem.porter import PorterStemmer\n",
    "from nltk.stem import WordNetLemmatizer\n",
    "from nltk.stem import LancasterStemmer,WordNetLemmatizer\n",
    "import re\n",
    "import os\n",
    "import csv"
   ]
  },
  {
   "cell_type": "code",
   "execution_count": 2,
   "id": "14189775",
   "metadata": {},
   "outputs": [],
   "source": [
    "data=pd.read_csv('IMDBDataset.csv')"
   ]
  },
  {
   "cell_type": "code",
   "execution_count": 3,
   "id": "2f81c21e",
   "metadata": {
    "scrolled": true
   },
   "outputs": [
    {
     "data": {
      "text/html": [
       "<div>\n",
       "<style scoped>\n",
       "    .dataframe tbody tr th:only-of-type {\n",
       "        vertical-align: middle;\n",
       "    }\n",
       "\n",
       "    .dataframe tbody tr th {\n",
       "        vertical-align: top;\n",
       "    }\n",
       "\n",
       "    .dataframe thead th {\n",
       "        text-align: right;\n",
       "    }\n",
       "</style>\n",
       "<table border=\"1\" class=\"dataframe\">\n",
       "  <thead>\n",
       "    <tr style=\"text-align: right;\">\n",
       "      <th></th>\n",
       "      <th>review</th>\n",
       "      <th>sentiment</th>\n",
       "    </tr>\n",
       "  </thead>\n",
       "  <tbody>\n",
       "    <tr>\n",
       "      <th>0</th>\n",
       "      <td>One of the other reviewers has mentioned that ...</td>\n",
       "      <td>positive</td>\n",
       "    </tr>\n",
       "    <tr>\n",
       "      <th>1</th>\n",
       "      <td>A wonderful little production. &lt;br /&gt;&lt;br /&gt;The...</td>\n",
       "      <td>positive</td>\n",
       "    </tr>\n",
       "    <tr>\n",
       "      <th>2</th>\n",
       "      <td>I thought this was a wonderful way to spend ti...</td>\n",
       "      <td>positive</td>\n",
       "    </tr>\n",
       "    <tr>\n",
       "      <th>3</th>\n",
       "      <td>Basically there's a family where a little boy ...</td>\n",
       "      <td>negative</td>\n",
       "    </tr>\n",
       "    <tr>\n",
       "      <th>4</th>\n",
       "      <td>Petter Mattei's \"Love in the Time of Money\" is...</td>\n",
       "      <td>positive</td>\n",
       "    </tr>\n",
       "  </tbody>\n",
       "</table>\n",
       "</div>"
      ],
      "text/plain": [
       "                                              review sentiment\n",
       "0  One of the other reviewers has mentioned that ...  positive\n",
       "1  A wonderful little production. <br /><br />The...  positive\n",
       "2  I thought this was a wonderful way to spend ti...  positive\n",
       "3  Basically there's a family where a little boy ...  negative\n",
       "4  Petter Mattei's \"Love in the Time of Money\" is...  positive"
      ]
     },
     "execution_count": 3,
     "metadata": {},
     "output_type": "execute_result"
    }
   ],
   "source": [
    "data.head()"
   ]
  },
  {
   "cell_type": "code",
   "execution_count": 4,
   "id": "be54fbd9",
   "metadata": {},
   "outputs": [
    {
     "data": {
      "text/plain": [
       "0        One of the other reviewers has mentioned that ...\n",
       "1        A wonderful little production. <br /><br />The...\n",
       "2        I thought this was a wonderful way to spend ti...\n",
       "3        Basically there's a family where a little boy ...\n",
       "4        Petter Mattei's \"Love in the Time of Money\" is...\n",
       "                               ...                        \n",
       "49995    I thought this movie did a down right good job...\n",
       "49996    Bad plot, bad dialogue, bad acting, idiotic di...\n",
       "49997    I am a Catholic taught in parochial elementary...\n",
       "49998    I'm going to have to disagree with the previou...\n",
       "49999    No one expects the Star Trek movies to be high...\n",
       "Name: review, Length: 50000, dtype: object"
      ]
     },
     "execution_count": 4,
     "metadata": {},
     "output_type": "execute_result"
    }
   ],
   "source": [
    "data[\"review\"]"
   ]
  },
  {
   "cell_type": "code",
   "execution_count": 5,
   "id": "2efe42a4",
   "metadata": {},
   "outputs": [
    {
     "data": {
      "text/plain": [
       "review       0\n",
       "sentiment    0\n",
       "dtype: int64"
      ]
     },
     "execution_count": 5,
     "metadata": {},
     "output_type": "execute_result"
    }
   ],
   "source": [
    "data.isnull().sum()"
   ]
  },
  {
   "cell_type": "markdown",
   "id": "0004d31b",
   "metadata": {},
   "source": [
    "### Text Cleaning"
   ]
  },
  {
   "cell_type": "code",
   "execution_count": 6,
   "id": "d1b2dafa",
   "metadata": {},
   "outputs": [],
   "source": [
    "data = data.sample(10000)"
   ]
  },
  {
   "cell_type": "code",
   "execution_count": 7,
   "id": "ffdfc4ad",
   "metadata": {},
   "outputs": [
    {
     "data": {
      "text/plain": [
       "(10000, 2)"
      ]
     },
     "execution_count": 7,
     "metadata": {},
     "output_type": "execute_result"
    }
   ],
   "source": [
    "data.shape"
   ]
  },
  {
   "cell_type": "code",
   "execution_count": 8,
   "id": "98e1ce44",
   "metadata": {},
   "outputs": [
    {
     "name": "stdout",
     "output_type": "stream",
     "text": [
      "<class 'pandas.core.frame.DataFrame'>\n",
      "Int64Index: 10000 entries, 45543 to 12111\n",
      "Data columns (total 2 columns):\n",
      " #   Column     Non-Null Count  Dtype \n",
      "---  ------     --------------  ----- \n",
      " 0   review     10000 non-null  object\n",
      " 1   sentiment  10000 non-null  object\n",
      "dtypes: object(2)\n",
      "memory usage: 234.4+ KB\n"
     ]
    }
   ],
   "source": [
    "data.info()"
   ]
  },
  {
   "cell_type": "code",
   "execution_count": 9,
   "id": "fa7bfb3d",
   "metadata": {},
   "outputs": [],
   "source": [
    "data[\"sentiment\"].replace({\"positive\": 1, \"negative\": 0}, inplace=True)"
   ]
  },
  {
   "cell_type": "code",
   "execution_count": 10,
   "id": "25fe2cfe",
   "metadata": {},
   "outputs": [
    {
     "data": {
      "text/html": [
       "<div>\n",
       "<style scoped>\n",
       "    .dataframe tbody tr th:only-of-type {\n",
       "        vertical-align: middle;\n",
       "    }\n",
       "\n",
       "    .dataframe tbody tr th {\n",
       "        vertical-align: top;\n",
       "    }\n",
       "\n",
       "    .dataframe thead th {\n",
       "        text-align: right;\n",
       "    }\n",
       "</style>\n",
       "<table border=\"1\" class=\"dataframe\">\n",
       "  <thead>\n",
       "    <tr style=\"text-align: right;\">\n",
       "      <th></th>\n",
       "      <th>review</th>\n",
       "      <th>sentiment</th>\n",
       "    </tr>\n",
       "  </thead>\n",
       "  <tbody>\n",
       "    <tr>\n",
       "      <th>45543</th>\n",
       "      <td>\"Markham,\" says urbane gentleman crime-solver ...</td>\n",
       "      <td>1</td>\n",
       "    </tr>\n",
       "    <tr>\n",
       "      <th>17173</th>\n",
       "      <td>The worst film I have seen in the last 12 mont...</td>\n",
       "      <td>0</td>\n",
       "    </tr>\n",
       "    <tr>\n",
       "      <th>47141</th>\n",
       "      <td>I first watched this movie back in the mid/lat...</td>\n",
       "      <td>0</td>\n",
       "    </tr>\n",
       "    <tr>\n",
       "      <th>34300</th>\n",
       "      <td>It's difficult to decide whether this movie su...</td>\n",
       "      <td>0</td>\n",
       "    </tr>\n",
       "    <tr>\n",
       "      <th>20711</th>\n",
       "      <td>One of the major successes to The Decline of W...</td>\n",
       "      <td>1</td>\n",
       "    </tr>\n",
       "  </tbody>\n",
       "</table>\n",
       "</div>"
      ],
      "text/plain": [
       "                                                  review  sentiment\n",
       "45543  \"Markham,\" says urbane gentleman crime-solver ...          1\n",
       "17173  The worst film I have seen in the last 12 mont...          0\n",
       "47141  I first watched this movie back in the mid/lat...          0\n",
       "34300  It's difficult to decide whether this movie su...          0\n",
       "20711  One of the major successes to The Decline of W...          1"
      ]
     },
     "execution_count": 10,
     "metadata": {},
     "output_type": "execute_result"
    }
   ],
   "source": [
    "data.head()"
   ]
  },
  {
   "cell_type": "code",
   "execution_count": 11,
   "id": "032e7936",
   "metadata": {},
   "outputs": [],
   "source": [
    "# Remove html tag\n",
    "def clean_html(text):\n",
    "    clean = re.compile(\"<.*?>\")\n",
    "    return re.sub(clean, '', text)"
   ]
  },
  {
   "cell_type": "code",
   "execution_count": 12,
   "id": "1689cde9",
   "metadata": {},
   "outputs": [],
   "source": [
    "data['review']=data['review'].apply(clean_html)"
   ]
  },
  {
   "cell_type": "code",
   "execution_count": 13,
   "id": "38abb5f9",
   "metadata": {},
   "outputs": [
    {
     "data": {
      "text/plain": [
       "45543    \"Markham,\" says urbane gentleman crime-solver ...\n",
       "17173    The worst film I have seen in the last 12 mont...\n",
       "47141    I first watched this movie back in the mid/lat...\n",
       "34300    It's difficult to decide whether this movie su...\n",
       "20711    One of the major successes to The Decline of W...\n",
       "                               ...                        \n",
       "11651    I feel like I've just watched a snuff film.......\n",
       "43879    This is the ultimate, and I mean the ULTIMATE,...\n",
       "10922    Snap, crackle, pop! The jarring sound of every...\n",
       "14612    The video box for 'Joyride' says \"starring sec...\n",
       "12111    I generally love this type of movie. However, ...\n",
       "Name: review, Length: 10000, dtype: object"
      ]
     },
     "execution_count": 13,
     "metadata": {},
     "output_type": "execute_result"
    }
   ],
   "source": [
    "data[\"review\"]"
   ]
  },
  {
   "cell_type": "code",
   "execution_count": 14,
   "id": "1ab34443",
   "metadata": {},
   "outputs": [],
   "source": [
    "# COnvert to lowercase\n",
    "def convert_lower(text):\n",
    "    return text.lower()"
   ]
  },
  {
   "cell_type": "code",
   "execution_count": 15,
   "id": "30e11308",
   "metadata": {},
   "outputs": [],
   "source": [
    "data['review']=data['review'].apply(convert_lower)"
   ]
  },
  {
   "cell_type": "code",
   "execution_count": 16,
   "id": "6a6623e1",
   "metadata": {},
   "outputs": [
    {
     "data": {
      "text/plain": [
       "45543    \"markham,\" says urbane gentleman crime-solver ...\n",
       "17173    the worst film i have seen in the last 12 mont...\n",
       "47141    i first watched this movie back in the mid/lat...\n",
       "34300    it's difficult to decide whether this movie su...\n",
       "20711    one of the major successes to the decline of w...\n",
       "                               ...                        \n",
       "11651    i feel like i've just watched a snuff film.......\n",
       "43879    this is the ultimate, and i mean the ultimate,...\n",
       "10922    snap, crackle, pop! the jarring sound of every...\n",
       "14612    the video box for 'joyride' says \"starring sec...\n",
       "12111    i generally love this type of movie. however, ...\n",
       "Name: review, Length: 10000, dtype: object"
      ]
     },
     "execution_count": 16,
     "metadata": {},
     "output_type": "execute_result"
    }
   ],
   "source": [
    "data[\"review\"]"
   ]
  },
  {
   "cell_type": "code",
   "execution_count": 17,
   "id": "66b3dc97",
   "metadata": {},
   "outputs": [],
   "source": [
    "# Remove square barckets\n",
    "def remove_between_square_brackets(text):\n",
    "    return re.sub('\\[[^]]*\\]', '', text)"
   ]
  },
  {
   "cell_type": "code",
   "execution_count": 18,
   "id": "e34d75f0",
   "metadata": {},
   "outputs": [
    {
     "data": {
      "text/plain": [
       "45543    \"markham,\" says urbane gentleman crime-solver ...\n",
       "17173    the worst film i have seen in the last 12 mont...\n",
       "47141    i first watched this movie back in the mid/lat...\n",
       "34300    it's difficult to decide whether this movie su...\n",
       "20711    one of the major successes to the decline of w...\n",
       "                               ...                        \n",
       "11651    i feel like i've just watched a snuff film.......\n",
       "43879    this is the ultimate, and i mean the ultimate,...\n",
       "10922    snap, crackle, pop! the jarring sound of every...\n",
       "14612    the video box for 'joyride' says \"starring sec...\n",
       "12111    i generally love this type of movie. however, ...\n",
       "Name: review, Length: 10000, dtype: object"
      ]
     },
     "execution_count": 18,
     "metadata": {},
     "output_type": "execute_result"
    }
   ],
   "source": [
    "data['review']=data['review'].apply(remove_between_square_brackets)\n",
    "data[\"review\"]"
   ]
  },
  {
   "cell_type": "code",
   "execution_count": 19,
   "id": "a343388a",
   "metadata": {},
   "outputs": [],
   "source": [
    "def denoise_text(text):\n",
    "    text = clean_html(text)\n",
    "    text = convert_lower(text)\n",
    "    text = remove_between_square_brackets(text)\n",
    "    return text"
   ]
  },
  {
   "cell_type": "code",
   "execution_count": 20,
   "id": "6d4fb19d",
   "metadata": {},
   "outputs": [
    {
     "data": {
      "text/plain": [
       "45543    \"markham,\" says urbane gentleman crime-solver ...\n",
       "17173    the worst film i have seen in the last 12 mont...\n",
       "47141    i first watched this movie back in the mid/lat...\n",
       "34300    it's difficult to decide whether this movie su...\n",
       "20711    one of the major successes to the decline of w...\n",
       "                               ...                        \n",
       "11651    i feel like i've just watched a snuff film.......\n",
       "43879    this is the ultimate, and i mean the ultimate,...\n",
       "10922    snap, crackle, pop! the jarring sound of every...\n",
       "14612    the video box for 'joyride' says \"starring sec...\n",
       "12111    i generally love this type of movie. however, ...\n",
       "Name: review, Length: 10000, dtype: object"
      ]
     },
     "execution_count": 20,
     "metadata": {},
     "output_type": "execute_result"
    }
   ],
   "source": [
    "data['review']=data['review'].apply(denoise_text)\n",
    "data[\"review\"]"
   ]
  },
  {
   "cell_type": "code",
   "execution_count": 21,
   "id": "a4e68188",
   "metadata": {},
   "outputs": [],
   "source": [
    "def remove_special_characters(text, remove_digits=True):\n",
    "    pattern=r'[^a-zA-z0-9\\s]'\n",
    "    text=re.sub(pattern,'',text)\n",
    "    return text"
   ]
  },
  {
   "cell_type": "code",
   "execution_count": 22,
   "id": "c8bfa044",
   "metadata": {},
   "outputs": [
    {
     "data": {
      "text/plain": [
       "45543    markham says urbane gentleman crimesolver phil...\n",
       "17173    the worst film i have seen in the last 12 mont...\n",
       "47141    i first watched this movie back in the midlate...\n",
       "34300    its difficult to decide whether this movie suf...\n",
       "20711    one of the major successes to the decline of w...\n",
       "                               ...                        \n",
       "11651    i feel like ive just watched a snuff filma bea...\n",
       "43879    this is the ultimate and i mean the ultimate a...\n",
       "10922    snap crackle pop the jarring sound of every ch...\n",
       "14612    the video box for joyride says starring second...\n",
       "12111    i generally love this type of movie however th...\n",
       "Name: review, Length: 10000, dtype: object"
      ]
     },
     "execution_count": 22,
     "metadata": {},
     "output_type": "execute_result"
    }
   ],
   "source": [
    "data['review']=data['review'].apply(remove_special_characters)\n",
    "data[\"review\"]"
   ]
  },
  {
   "cell_type": "code",
   "execution_count": 23,
   "id": "051c17fc",
   "metadata": {},
   "outputs": [
    {
     "data": {
      "text/plain": [
       "'i have seen this play many times from olivier'"
      ]
     },
     "execution_count": 23,
     "metadata": {},
     "output_type": "execute_result"
    }
   ],
   "source": [
    "remove_special_characters(\"i have seen this play many times from olivier#$%&*%%*.\")"
   ]
  },
  {
   "cell_type": "code",
   "execution_count": 24,
   "id": "544f667d",
   "metadata": {},
   "outputs": [],
   "source": [
    "# Remove stopwords\n",
    "def remove_stop_word(text):\n",
    "    x=[]\n",
    "    for i in text.split():\n",
    "        if i not in stopwords.words(\"english\"):\n",
    "            x.append(i)\n",
    "    y=x[:]\n",
    "    x.clear()\n",
    "    return y\n"
   ]
  },
  {
   "cell_type": "code",
   "execution_count": 25,
   "id": "84eedc70",
   "metadata": {},
   "outputs": [
    {
     "data": {
      "text/plain": [
       "['seen', \"i'm\", \"i've\", \"let's\", 'play', 'many', 'times', 'olivier']"
      ]
     },
     "execution_count": 25,
     "metadata": {},
     "output_type": "execute_result"
    }
   ],
   "source": [
    "remove_stop_word(\"i have seen i'm i've if in into is isn't it it's its itself let's play many times from olivier\")"
   ]
  },
  {
   "cell_type": "code",
   "execution_count": null,
   "id": "181caab7",
   "metadata": {},
   "outputs": [],
   "source": [
    "data['review']=data['review'].apply(remove_stop_word)\n",
    "data[\"review\"]"
   ]
  },
  {
   "cell_type": "code",
   "execution_count": null,
   "id": "b1615d25",
   "metadata": {},
   "outputs": [],
   "source": [
    "data"
   ]
  },
  {
   "cell_type": "code",
   "execution_count": null,
   "id": "74a79725",
   "metadata": {},
   "outputs": [],
   "source": [
    "y=[]\n",
    "ps=PorterStemmer()\n",
    "def stem_words(text):\n",
    "    for i in text:\n",
    "        y.append(ps.stem(i))\n",
    "    z=y[:]\n",
    "    y.clear()\n",
    "    return z"
   ]
  },
  {
   "cell_type": "code",
   "execution_count": null,
   "id": "9366c28d",
   "metadata": {},
   "outputs": [],
   "source": [
    "data['review']=data['review'].apply(stem_words)\n",
    "data[\"review\"]"
   ]
  },
  {
   "cell_type": "code",
   "execution_count": null,
   "id": "cb5d9e7d",
   "metadata": {},
   "outputs": [],
   "source": [
    "def join_words(list):\n",
    "    return \" \".join(list)"
   ]
  },
  {
   "cell_type": "code",
   "execution_count": null,
   "id": "58833bd2",
   "metadata": {},
   "outputs": [],
   "source": [
    "data['review']=data['review'].apply(join_words)\n",
    "data[\"review\"]"
   ]
  },
  {
   "cell_type": "code",
   "execution_count": null,
   "id": "f2a30029",
   "metadata": {},
   "outputs": [],
   "source": [
    "X =data.iloc[:,0:1].values"
   ]
  },
  {
   "cell_type": "code",
   "execution_count": null,
   "id": "dffc4bff",
   "metadata": {},
   "outputs": [],
   "source": [
    "X.shape"
   ]
  },
  {
   "cell_type": "code",
   "execution_count": null,
   "id": "3ad8de0f",
   "metadata": {},
   "outputs": [],
   "source": [
    "from sklearn.feature_extraction.text import CountVectorizer\n"
   ]
  },
  {
   "cell_type": "code",
   "execution_count": null,
   "id": "1e534158",
   "metadata": {},
   "outputs": [],
   "source": [
    "cv=CountVectorizer(max_features =800)\n",
    "X=cv.fit_transform(data[\"review\"]).toarray()\n"
   ]
  },
  {
   "cell_type": "code",
   "execution_count": null,
   "id": "6f7380c2",
   "metadata": {},
   "outputs": [],
   "source": [
    "X.shape"
   ]
  },
  {
   "cell_type": "code",
   "execution_count": null,
   "id": "58f55340",
   "metadata": {},
   "outputs": [],
   "source": [
    "X[0].max()"
   ]
  },
  {
   "cell_type": "code",
   "execution_count": null,
   "id": "45f04629",
   "metadata": {},
   "outputs": [],
   "source": [
    "y =data.iloc[:,-1].values"
   ]
  },
  {
   "cell_type": "code",
   "execution_count": null,
   "id": "1de209bd",
   "metadata": {},
   "outputs": [],
   "source": [
    "y.shape"
   ]
  },
  {
   "cell_type": "code",
   "execution_count": null,
   "id": "cd21584b",
   "metadata": {},
   "outputs": [],
   "source": [
    "from sklearn.model_selection import train_test_split\n",
    "X_train,X_test,y_train,y_test = train_test_split(X,y,test_size=0.15)"
   ]
  },
  {
   "cell_type": "code",
   "execution_count": null,
   "id": "01f8181d",
   "metadata": {},
   "outputs": [],
   "source": [
    "X_train.shape"
   ]
  },
  {
   "cell_type": "code",
   "execution_count": null,
   "id": "ebaa5130",
   "metadata": {},
   "outputs": [],
   "source": [
    "y_train.shape"
   ]
  },
  {
   "cell_type": "code",
   "execution_count": null,
   "id": "a368a49e",
   "metadata": {},
   "outputs": [],
   "source": [
    "X_test.shape"
   ]
  },
  {
   "cell_type": "code",
   "execution_count": null,
   "id": "24ade34e",
   "metadata": {},
   "outputs": [],
   "source": [
    "y_test.shape"
   ]
  },
  {
   "cell_type": "code",
   "execution_count": null,
   "id": "d5eb8269",
   "metadata": {},
   "outputs": [],
   "source": [
    "from sklearn.naive_bayes import GaussianNB, MultinomialNB, BernoulliNB\n",
    "model1 = GaussianNB()\n",
    "model2 = MultinomialNB()\n",
    "model3 = BernoulliNB()"
   ]
  },
  {
   "cell_type": "code",
   "execution_count": null,
   "id": "b38432c6",
   "metadata": {},
   "outputs": [],
   "source": [
    "print(model1.fit(X_train, y_train))\n",
    "print(model2.fit(X_train, y_train))\n",
    "print(model3.fit(X_train, y_train))"
   ]
  },
  {
   "cell_type": "code",
   "execution_count": null,
   "id": "33800ed9",
   "metadata": {},
   "outputs": [],
   "source": [
    "y_pred1 =model1.predict(X_test)\n",
    "y_pred2 =model2.predict(X_test)\n",
    "y_pred3 =model3.predict(X_test)"
   ]
  },
  {
   "cell_type": "code",
   "execution_count": null,
   "id": "c739ebb6",
   "metadata": {},
   "outputs": [],
   "source": [
    "print(\"Gaussian:\", model1.score(X_test, y_test))\n",
    "print(\"Multinomial:\", model2.score(X_test, y_test))\n",
    "print(\"Bernoulli:\", model3.score(X_test, y_test))"
   ]
  },
  {
   "cell_type": "code",
   "execution_count": null,
   "id": "62b9cb7f",
   "metadata": {},
   "outputs": [],
   "source": []
  },
  {
   "cell_type": "code",
   "execution_count": null,
   "id": "8183329c",
   "metadata": {},
   "outputs": [],
   "source": []
  }
 ],
 "metadata": {
  "kernelspec": {
   "display_name": "Python 3 (ipykernel)",
   "language": "python",
   "name": "python3"
  },
  "language_info": {
   "codemirror_mode": {
    "name": "ipython",
    "version": 3
   },
   "file_extension": ".py",
   "mimetype": "text/x-python",
   "name": "python",
   "nbconvert_exporter": "python",
   "pygments_lexer": "ipython3",
   "version": "3.9.12"
  }
 },
 "nbformat": 4,
 "nbformat_minor": 5
}
